{
 "cells": [
  {
   "cell_type": "code",
   "execution_count": 1,
   "id": "e36dfa06",
   "metadata": {},
   "outputs": [],
   "source": [
    "# pip install gym\n",
    "\n",
    "# pip install gymnasium\n",
    "# pip install \"gymnasium[classic-control]\" # This part gives us the visual window to see the game"
   ]
  },
  {
   "cell_type": "code",
   "execution_count": 2,
   "id": "03b549db",
   "metadata": {},
   "outputs": [],
   "source": [
    "# CORRECTED: Use gymnasium instead of the old gym\n",
    "import gymnasium as gym\n",
    "import numpy as np\n",
    "import matplotlib.pyplot as plt\n",
    "\n",
    "import tqdm                 # Progress bars\n"
   ]
  },
  {
   "cell_type": "code",
   "execution_count": null,
   "id": "18e4bac0",
   "metadata": {},
   "outputs": [
    {
     "name": "stdout",
     "output_type": "stream",
     "text": [
      "Observation Space: Discrete(16)\n",
      "Action Space: Discrete(4)\n"
     ]
    },
    {
     "name": "stderr",
     "output_type": "stream",
     "text": [
      "Training: 100%|██████████| 1000/1000 [35:33<00:00,  2.13s/episode]\n"
     ]
    },
    {
     "name": "stdout",
     "output_type": "stream",
     "text": [
      "\n",
      "Training finished.\n",
      "Final Q-Table:\n",
      "[[0.73509189 0.77378094 0.77378094 0.73509189]\n",
      " [0.73509189 0.         0.81450625 0.77378094]\n",
      " [0.77378094 0.857375   0.77378094 0.81450625]\n",
      " [0.81450625 0.         0.77378094 0.77378094]\n",
      " [0.77378094 0.81450625 0.         0.73509189]\n",
      " [0.         0.         0.         0.        ]\n",
      " [0.         0.9025     0.         0.81450625]\n",
      " [0.         0.         0.         0.        ]\n",
      " [0.81450625 0.         0.857375   0.77378094]\n",
      " [0.81450625 0.9025     0.9025     0.        ]\n",
      " [0.857375   0.95       0.         0.857375  ]\n",
      " [0.         0.         0.         0.        ]\n",
      " [0.         0.         0.         0.        ]\n",
      " [0.         0.9025     0.95       0.857375  ]\n",
      " [0.9025     0.95       1.         0.9025    ]\n",
      " [0.         0.         0.         0.        ]]\n"
     ]
    },
    {
     "ename": "",
     "evalue": "",
     "output_type": "error",
     "traceback": [
      "\u001b[1;31mThe Kernel crashed while executing code in the current cell or a previous cell. \n",
      "\u001b[1;31mPlease review the code in the cell(s) to identify a possible cause of the failure. \n",
      "\u001b[1;31mClick <a href='https://aka.ms/vscodeJupyterKernelCrash'>here</a> for more info. \n",
      "\u001b[1;31mView Jupyter <a href='command:jupyter.viewOutput'>log</a> for further details."
     ]
    }
   ],
   "source": [
    "# CORRECTED: Use gymnasium instead of the old gym\n",
    "import gymnasium as gym\n",
    "import numpy as np\n",
    "import matplotlib.pyplot as plt\n",
    "# Import the progress bar library\n",
    "from tqdm import tqdm\n",
    "\n",
    "# Create the game environment.\n",
    "env = gym.make('FrozenLake-v1', render_mode='human', is_slippery=False)\n",
    "print(\"Observation Space:\", env.observation_space)\n",
    "print(\"Action Space:\", env.action_space)\n",
    "\n",
    "# Initialize the Q-table (cheat sheet) with zeros\n",
    "q_table = np.zeros([env.observation_space.n, env.action_space.n])\n",
    "\n",
    "# Hyperparameters\n",
    "alpha = 0.8   # Learning rate\n",
    "gamma = 0.95  # Discount factor\n",
    "epsilon = 0.9 # Exploration rate\n",
    "num_episodes = 1000  # How many games to play\n",
    "\n",
    "# Main training loop\n",
    "# CHANGE 1: Wrap range(num_episodes) with tqdm() to create a progress bar\n",
    "for episode in tqdm(range(num_episodes), desc=\"Training\", unit=\"episode\"):\n",
    "    # Reset the game for a new episode.\n",
    "    state, info = env.reset()\n",
    "    done = False\n",
    "\n",
    "    while not done:\n",
    "        # Choose action: Explore or Exploit?\n",
    "        if np.random.random() < epsilon:\n",
    "            action = env.action_space.sample() # Random action (explore)\n",
    "        else:\n",
    "            action = np.argmax(q_table[state]) # Best known action (exploit)\n",
    "\n",
    "        # Take the action! See what happens.\n",
    "        new_state, reward, done, truncated, info = env.step(action)\n",
    "\n",
    "        # Update the Q-table (the cheat sheet)\n",
    "        old_value = q_table[state, action]\n",
    "        next_max = np.max(q_table[new_state])\n",
    "        new_value = old_value + alpha * (reward + gamma * next_max - old_value)\n",
    "        q_table[state, action] = new_value\n",
    "\n",
    "        state = new_state\n",
    "\n",
    "    # CHANGE 2: You can REMOVE or COMMENT OUT the old print statement.\n",
    "    # The progress bar replaces this!\n",
    "    # if episode % 1000 == 0:\n",
    "    #    print(f\"Episode: {episode}\")\n",
    "\n",
    "print(\"\\nTraining finished.\\nFinal Q-Table:\")\n",
    "print(q_table)\n",
    "\n",
    "# Let's watch our smart agent play!\n",
    "input(\"Press Enter to watch the trained agent...\")\n",
    "state, info = env.reset()\n",
    "done = False\n",
    "while not done:\n",
    "    action = np.argmax(q_table[state])\n",
    "    new_state, reward, done, truncated, info = env.step(action)\n",
    "    env.render() # Show the game on your screen!\n",
    "    state = new_state\n",
    "\n",
    "env.close()"
   ]
  }
 ],
 "metadata": {
  "kernelspec": {
   "display_name": "datasci_env",
   "language": "python",
   "name": "python3"
  },
  "language_info": {
   "codemirror_mode": {
    "name": "ipython",
    "version": 3
   },
   "file_extension": ".py",
   "mimetype": "text/x-python",
   "name": "python",
   "nbconvert_exporter": "python",
   "pygments_lexer": "ipython3",
   "version": "3.12.3"
  }
 },
 "nbformat": 4,
 "nbformat_minor": 5
}
